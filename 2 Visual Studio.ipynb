{
 "cells": [
  {
   "cell_type": "markdown",
   "metadata": {},
   "source": [
    "# 1. Visual Studio IDE\n",
    "\n",
    "- ## Integrated Developement Environment\n",
    "\n",
    "# 2. Avaiable Editions\n",
    "\n",
    "- ## Ultimate\n",
    "\n",
    "- ## Premium\n",
    "\n",
    "- ## Professional\n",
    "\n",
    "- ## Test Professional\n",
    "\n",
    "- ## Expression Edition\n",
    "\n",
    "    - ## Free\n",
    "    \n",
    "    - ## Cannot utilize extensions\n",
    "    \n",
    "- ## Community Edition\n",
    "\n",
    "    - ## Free\n",
    "    \n",
    "    - ## New in late 2014\n",
    "    \n",
    "    - ## Full, extensible Version with few restrictions"
   ]
  },
  {
   "cell_type": "markdown",
   "metadata": {},
   "source": [
    "# 3. Visual Studio Basics"
   ]
  },
  {
   "cell_type": "markdown",
   "metadata": {},
   "source": [
    "- ## Two Common Characteristics for new users\n",
    "\n",
    "    - ### Endless configuration possibilities\n",
    "    \n",
    "    - ### Confusion"
   ]
  },
  {
   "cell_type": "code",
   "execution_count": null,
   "metadata": {},
   "outputs": [],
   "source": []
  }
 ],
 "metadata": {
  "kernelspec": {
   "display_name": "Python 3",
   "language": "python",
   "name": "python3"
  },
  "language_info": {
   "codemirror_mode": {
    "name": "ipython",
    "version": 3
   },
   "file_extension": ".py",
   "mimetype": "text/x-python",
   "name": "python",
   "nbconvert_exporter": "python",
   "pygments_lexer": "ipython3",
   "version": "3.6.3"
  }
 },
 "nbformat": 4,
 "nbformat_minor": 2
}

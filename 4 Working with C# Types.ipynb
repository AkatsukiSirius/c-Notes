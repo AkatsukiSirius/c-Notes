{
 "cells": [
  {
   "cell_type": "markdown",
   "metadata": {},
   "source": [
    "# 1. Properties and Fields"
   ]
  },
  {
   "cell_type": "markdown",
   "metadata": {},
   "source": [
    "- ### Properties and fields provids objetcs the ability to store data;\n",
    "\n",
    "    - Which makes our objects useful;\n",
    "    \n",
    "    - Consider a Person Object, create a class, Person"
   ]
  },
  {
   "cell_type": "markdown",
   "metadata": {},
   "source": [
    "|Person|\n",
    "|:-|\n",
    "|Gender|\n",
    "|Age|\n",
    "|Weight|\n",
    "|Examine"
   ]
  },
  {
   "cell_type": "markdown",
   "metadata": {},
   "source": [
    "- ### These are often called 'properties'\n",
    "\n",
    "- ### How should we provide the ability to set and change this data?\n",
    "\n",
    "    - Uncontrolled access to data can create serious issues;\n",
    "    \n",
    "    - Invalid values can cause errors;\n",
    "    \n",
    "    - Invalid values can create security concerns;\n",
    "    \n",
    "- ### Solve: Encapsulation\n",
    "\n",
    "    - Relate to the difference between Properties and Fields;"
   ]
  },
  {
   "cell_type": "markdown",
   "metadata": {},
   "source": [
    "- ### The priciple of encapsulation is one of the fundamental aspects of object - oriented design;\n",
    "\n",
    "    - This principle states that data stored inside an object should be accessible only to that object;\n",
    "    \n",
    "    - Not directly publicly accessible from outside the object;"
   ]
  },
  {
   "cell_type": "markdown",
   "metadata": {},
   "source": [
    "- ### Fields provide the ability to store data privately\n",
    "\n",
    "    - Think, a field is a private variable in an object and we cannot touch that from the outside;\n",
    "    \n",
    "    - A field is only available from within the object;\n",
    "    \n",
    "- ### Properties provide the ability to read and write data to the private fields;\n",
    "\n",
    "    - Specifically, the provide encapsulation for the fields;\n",
    "    \n",
    "    - Data being written to or read from a field can be verfied modified, etc. by our property;\n",
    "    \n",
    "        - Pass the data to property, can check it to see if it is available, then we can make the change;\n",
    "        \n",
    "        - To read the value, we can go to grab the value of the field and return it;\n",
    "        \n",
    "- ### Properties look and feel like public data members;\n",
    "\n",
    "    - Properties -> special methods called accessors;\n",
    "    \n",
    "    - Field -> private variable that can only be accessed by code within the object;"
   ]
  },
  {
   "cell_type": "markdown",
   "metadata": {},
   "source": [
    "# 2. Using Properties and Fields"
   ]
  },
  {
   "cell_type": "markdown",
   "metadata": {},
   "source": [
    "- ### Create a __private variable__ as __field__;\n",
    "\n",
    "- ### Create a __public variable__ as accessor to deal with the __private variable__;\n",
    "\n",
    "    - ### get{ return private_variable}; set{if ... else ... throw};\n",
    "    \n",
    "        - Defines what's going on with the value being passed in;\n",
    "        \n",
    "- ### Create a public integer as property;\n",
    "    \n",
    "    - public int Weight{get {return},set{Weight = value}};\n",
    "    \n",
    "    \n",
    "- ## Summary:\n",
    "\n",
    "    - ### Properties are accessories that allow us to access our fields -> control how access & update data;\n",
    "    \n",
    "    - ### Fields are private variables that are going to be in project -> Data Hiding;"
   ]
  },
  {
   "cell_type": "markdown",
   "metadata": {},
   "source": [
    "# 3. Methods"
   ]
  },
  {
   "cell_type": "markdown",
   "metadata": {},
   "source": [
    "- ### A method is a named code block that carries out a series of statement;\n",
    "\n",
    "    - A program causes the statements to be executed by calling the method and specifying any required method arguments;\n",
    "    \n",
    "    - Method: Doesn't return any values when it's completed;\n",
    "    \n",
    "    - Function: does return a value when it's completed;\n",
    "    \n",
    "- ## Characteristics:\n",
    "\n",
    "    - ### Access modifier;\n",
    "    \n",
    "        - Controls the availability of the method to other good;\n",
    "    \n",
    "        - public // can be called from outside the object;\n",
    "        \n",
    "    - ### Return type;\n",
    "    \n",
    "        - Methods can return a value to the calling code;\n",
    "        \n",
    "            - Function: Sometimes called a function when it returns a value;\n",
    "        \n",
    "            - Not void, the method will return a value, and it won't be compiled until using the return statement and then, pass the value back out; \n",
    "            \n",
    "            - A 'return' statement inside the method will stop execution and return a value to caller if the value matches the return type;\n",
    "    \n",
    "        - int // will return integer;\n",
    "        \n",
    "        - void // return nothing;\n",
    "    \n",
    "    - ### Parameters;\n",
    "    \n",
    "        - Specifies the name and data type of values that must be provided when the method is called;\n",
    "        \n",
    "        - __Argument__: The values passed to the method's parameters are called arguments;\n",
    "        \n",
    "            - The arguments must be compatiable with parameter data type;\n",
    "    \n",
    "        - int a, int b;\n",
    "    \n",
    "    - ### [Signature](https://stackoverflow.com/questions/8808703/method-signature-in-c-sharp);\n",
    "    \n",
    "        - Refers to the __structure__ of the method;\n",
    "        \n",
    "        - For __overloading__, the signature includes the methods name and the parameter types;\n",
    "        \n",
    "            - method overloading: same method name, different signature;\n",
    "        \n",
    "        - For __delegates__, the signatures includes the return type and the parameter types;\n",
    "    \n",
    "        - int AddNumber(int a, int b)\n",
    "        \n",
    "            - Overload looks at the name and parameter;\n",
    "            \n",
    "            - Delegate, the signature includes the return type and the parameter type;"
   ]
  },
  {
   "cell_type": "markdown",
   "metadata": {},
   "source": [
    "### public int AddNumbers(int a, int b)\n",
    "\n",
    "### {\n",
    "###   return a+b;\n",
    "### }"
   ]
  },
  {
   "cell_type": "markdown",
   "metadata": {},
   "source": [
    "# 4. Access Modifiers"
   ]
  },
  {
   "cell_type": "markdown",
   "metadata": {},
   "source": [
    "- ## All types and memembers have an accessibility level\n",
    "\n",
    "    - All types and memember;\n",
    "    \n",
    "    - Controls whether they can be used from other code within an assembly or other assemblies;\n",
    "\n",
    "- ## Five accessibility levels\n",
    "\n",
    "    - ### Public\n",
    "    \n",
    "        - The type or member can ba accessed by any other code in the same assembly or another assembly that references it;\n",
    "    \n",
    "    - ### Private\n",
    "    \n",
    "        - The type or member can be accessed only by code in the same class or struct;\n",
    "    \n",
    "        - This is how we create fields;\n",
    "    \n",
    "    - ### Protected\n",
    "    \n",
    "        - The type or member can be accessed only by code in the same class or struct, or in a class that is derived from that class (inheritance);\n",
    "    \n",
    "    - ### Internal\n",
    "        \n",
    "        - The type or member can be accessed by any code in the same assembly, but not from another assembly;\n",
    "    \n",
    "    - ### Protected Internal\n",
    "    \n",
    "        - The type of member can be accessed by any code in the assembly in which it is declared...\n",
    "        \n",
    "        - Or from within a derived class in the another assembly"
   ]
  },
  {
   "cell_type": "markdown",
   "metadata": {},
   "source": [
    "### public int NewInfo(string fname, int age)\n",
    "### {\n",
    "    \n",
    "###    // code ...\n",
    "### }"
   ]
  },
  {
   "cell_type": "markdown",
   "metadata": {},
   "source": [
    "# 5. Named and Optional Arguments"
   ]
  },
  {
   "cell_type": "markdown",
   "metadata": {},
   "source": [
    "## 5.1 A method's parameters are usually utilized positionally\n",
    "\n",
    "- ### Example: We have a METHOD, NewInfo\n",
    "\n",
    "### public int NewInfo(string fname, int age)\n",
    "### { \n",
    "###     // code...    \n",
    "### }"
   ]
  },
  {
   "cell_type": "markdown",
   "metadata": {},
   "source": [
    "### NewInfo(\"Mark\",39);"
   ]
  },
  {
   "cell_type": "markdown",
   "metadata": {},
   "source": [
    "## 5.2 Named arguments can be used instead of positional"
   ]
  },
  {
   "cell_type": "markdown",
   "metadata": {},
   "source": [
    "- ### Example:\n",
    "\n",
    "### NewInfo(age:39, fname: \"Mark\")"
   ]
  },
  {
   "cell_type": "markdown",
   "metadata": {},
   "source": [
    "## 5.3 Other Keypoints"
   ]
  },
  {
   "cell_type": "markdown",
   "metadata": {},
   "source": [
    "- ### By default, all parameters listed are required when calling the method;\n",
    "\n",
    "- ### Optional parameters can be defined;\n",
    "\n",
    "    - Each optional parameter has a default value as part of its definition;\n",
    "    \n",
    "    - If no argument is sent for that parameter, the default value is used;\n",
    "    \n",
    "- ### Optional parameters are defined at the end of the parameter list, after any required parameters"
   ]
  },
  {
   "cell_type": "markdown",
   "metadata": {},
   "source": [
    "### public int NewInfo(string fname, int age = 39)\n",
    "\n",
    "### {\n",
    "###        // code...\n",
    "### }"
   ]
  },
  {
   "cell_type": "markdown",
   "metadata": {},
   "source": [
    "# 6. Understanding Constructors"
   ]
  },
  {
   "cell_type": "markdown",
   "metadata": {},
   "source": [
    "- ## Constructor: Method Instantiate, similar to \\_\\_init\\_\\_(self) in python;\n",
    "\n",
    "- ## Every C# class or struct has a constructor\n",
    "\n",
    "- ## 1) What is a constructor?\n",
    "\n",
    "    - ### A method that executes automatically every time an object is instantiated from the class;\n",
    "    \n",
    "    - ### A method with the same name as the class;\n",
    "    \n",
    "    - ### If a constructor is not provided by the programmer, c# creates a default constructor;\n",
    "    \n",
    "        - Every time we use __class__ to __instantiate__ an object, an object it's going to have that default constructor;\n",
    "        \n",
    "- ## 2) What does it do?\n",
    "\n",
    "    - ### Enables action to be taken as an object is created based on the class;\n",
    "    \n",
    "    - ### Set default values\n",
    "    \n",
    "    - ### Limit instantiation\n",
    "    \n",
    "    - ### Takes a specific action, etc.\n",
    "    \n",
    "- ## 3) Three Main Types:\n",
    "\n",
    "    - ### Instance\n",
    "    \n",
    "        -  Used to create and initialize any instance member variables when you use the new expression to create an object of a class;\n",
    "        \n",
    "        - Ofen used to call a database and load various object values;\n",
    "    \n",
    "    - ### Private\n",
    "    \n",
    "        - Prevents other classes from creating instances of this class;\n",
    "        \n",
    "        - Only nested classes can create an instance of this class;\n",
    "    \n",
    "    - ### Static\n",
    "    \n",
    "        - Used to initialize any static data;\n",
    "        \n",
    "        - A static constructor is called only once before the first instance of the class is created or any static members are referenced;"
   ]
  },
  {
   "cell_type": "markdown",
   "metadata": {},
   "source": [
    "- ## Note:\n",
    "\n",
    "    - ### Constructors can be overloaded;"
   ]
  },
  {
   "cell_type": "code",
   "execution_count": null,
   "metadata": {},
   "outputs": [],
   "source": []
  }
 ],
 "metadata": {
  "kernelspec": {
   "display_name": "Python 3",
   "language": "python",
   "name": "python3"
  },
  "language_info": {
   "codemirror_mode": {
    "name": "ipython",
    "version": 3
   },
   "file_extension": ".py",
   "mimetype": "text/x-python",
   "name": "python",
   "nbconvert_exporter": "python",
   "pygments_lexer": "ipython3",
   "version": "3.6.3"
  }
 },
 "nbformat": 4,
 "nbformat_minor": 2
}

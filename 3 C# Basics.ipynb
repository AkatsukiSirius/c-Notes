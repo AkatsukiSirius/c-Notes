{
 "cells": [
  {
   "cell_type": "markdown",
   "metadata": {},
   "source": [
    "# 1. Why C#?"
   ]
  },
  {
   "cell_type": "markdown",
   "metadata": {},
   "source": [
    "- ## Natural Choice in Microsoft shops;\n",
    "\n",
    "- ## Portability\n",
    "\n",
    "    - ### wins, ios and Android\n",
    "    \n",
    "    - ### Mobile, Embedded, Desktop, Server Computing"
   ]
  },
  {
   "cell_type": "markdown",
   "metadata": {},
   "source": [
    "# 2. Characteristics of C#"
   ]
  },
  {
   "cell_type": "markdown",
   "metadata": {},
   "source": [
    "- ## Combines the best features of previously existing languages;\n",
    "\n",
    "    - ### C++\n",
    "    \n",
    "    - ### Jave\n",
    "    \n",
    "    - ### Pascal\n",
    "    \n",
    "    - ### VB\n",
    "    \n",
    "- ## C# was designed based on seven basic points\n",
    "\n",
    "    - ### Simple;\n",
    "    \n",
    "        - Fewer operators, no points, etc.\n",
    "    \n",
    "    - ### Modern \n",
    "    \n",
    "        -  needed to address the way computers were being used in an age of more powerful processor a lot more available memory;\n",
    "        \n",
    "        - Garbage collection, improved security;\n",
    "    \n",
    "    - ### Object-oriented\n",
    "    \n",
    "        - Encapsulation, inheritance, ploymorphism;\n",
    "        \n",
    "        - No global functions, variables or constant;\n",
    "        \n",
    "        - Everything is encapsulated inside a class;\n",
    "    \n",
    "    - ### Type-safe\n",
    "    \n",
    "        - Cannot use uninitialized variables\n",
    "        \n",
    "        - Unsafe casts are not allowed\n",
    "    \n",
    "    - ### Versionable\n",
    "    \n",
    "        - C# supports the versioning functionality provided by the Common Language Specification(CLS)\n",
    "        \n",
    "            - Enforced here;\n",
    "    \n",
    "    - ### Compatible (with other languages)\n",
    "    \n",
    "        - Allows you to access different APIs;\n",
    "        \n",
    "        - Compiler insures CLS compliance;\n",
    "    \n",
    "    - ### Flexible\n",
    "    \n",
    "        - No pointers, what if we must use it while dealing with other APIs?\n",
    "        \n",
    "        - Classes and/or methods can be declared as 'unsafe';\n",
    "        \n",
    "        - Enabling the use of pointers and other items that are required to use other APIs.\n",
    "    \n",
    "    "
   ]
  },
  {
   "cell_type": "markdown",
   "metadata": {},
   "source": [
    "# 3. Object Oriented Programming"
   ]
  },
  {
   "cell_type": "markdown",
   "metadata": {},
   "source": [
    "- ## Meaning?\n",
    "\n",
    "    - ### Program functionality is grouped into and carried out by objects;\n",
    "    \n",
    "        - Program functionality as we're coding it up is grouped into very discrete sections, and then, it is carried out by objects that are created from those sections;\n",
    "        \n",
    "    - ### The objects are defined by classes that are used to create the objects;\n",
    "    \n",
    "        - Classes are used to create in-memory objects that we use;\n",
    "        \n",
    "- ## Advantage of OOP?\n",
    "\n",
    "    - ### Code is divided into stand-alone groups, classes;\n",
    "    \n",
    "        - Can very simply construct a program that as multiple classes each class providing a very specific functionality;\n",
    "        \n",
    "        - Then, use that class to build the objects that actually carry out that functionality;\n",
    "        \n",
    "    - ### Code can be easily resused;\n",
    "    \n",
    "        - In different part of program, utilize that class to create objects to carry out functionalities;\n",
    "        \n",
    "        -  Expose those classes to other applications\n",
    "        \n",
    "        - .dl files -> class files \n",
    "        \n",
    "    - ### Complexity is reduced;\n",
    "    \n",
    "        - Since the application is divided into discrete little sections as classes;\n",
    "        \n",
    "        - Then classes lay out and describe one particular functionality;\n",
    "        \n",
    "        - In this way, we can correct or move sth from class to class which will reduce the complexity;\n",
    "        \n",
    "    - ### De-coupling can be achieved\n",
    "    \n",
    "        - Classes are independent to each other;\n",
    "    \n",
    "        - For large, complex application, we can edit some part of it easily without affecting other parts;\n",
    "        \n",
    "    - ### Extensibility\n",
    "    \n",
    "        - By adding new class to extend functionality;\n",
    "    \n",
    "        \n",
    "    \n",
    "        \n",
    "        "
   ]
  },
  {
   "cell_type": "markdown",
   "metadata": {},
   "source": [
    "- ## Three Main Characteristics of OOP\n",
    "\n",
    "    - ### Encapsulation\n",
    "    \n",
    "        - Grouping of data and functions into a single component;\n",
    "        \n",
    "        - Allows selective 'hiding' of data and functionalities;\n",
    "        \n",
    "        - Provides security and ease of use for objects;\n",
    "        \n",
    "        - Example: Making a call using a smartphone (functionalities are encapsulated);\n",
    "    \n",
    "    - ### Inheritance\n",
    "    \n",
    "        - Enables one class to reuse code from another class;\n",
    "        \n",
    "        - A single object can possess the functionality of multiple classes;\n",
    "        \n",
    "        - Avoid code duplication;\n",
    "        \n",
    "        - Provide the ability to extend and modify behavior in an easily maintained environment;\n",
    "        \n",
    "            - Allows us to continue seperate functionality into individual discrete sections or classes of code and then, inherit that functionality into other classes that need it and then thoses that are doing the inheriting to add additional functionality;\n",
    "    \n",
    "    - ### Polymorphism\n",
    "    \n",
    "        - The natural result of inheritance and encapsulation together;\n",
    "        \n",
    "        - Then ability to provide different functionalities for the same method name;\n",
    "        \n",
    "            - One class have a save_data function, which saves data to SQL server database; The other class has a function with same name save_data, while, the data comes to Oracle, etc.\n",
    "            \n",
    "        - Based on the context of how the method is called.\n",
    "        \n",
    "        - An inheritance hierarchy of classes and objects can provide multiple functions bearing the same name, but different functionalities;"
   ]
  },
  {
   "cell_type": "markdown",
   "metadata": {},
   "source": [
    "# 4. Understanding Classes"
   ]
  },
  {
   "cell_type": "markdown",
   "metadata": {},
   "source": [
    "- ## What does a class do?\n",
    "\n",
    "    - ### Template that used to create objects; \n",
    "    \n",
    "    - ### Provide necessary detials for building software objects;\n",
    "    \n",
    "    - ### A class is the software version of real world blue;"
   ]
  },
  {
   "cell_type": "markdown",
   "metadata": {},
   "source": [
    "# 5. Understanding Objects\n",
    "\n",
    "- ## An object a variable that contains two things:\n",
    "\n",
    "    - ### The properties that were defined in the class\n",
    "    \n",
    "    - ### The abilites defined as methods in the class\n",
    "\n",
    "__Note__: \n",
    "\n",
    "- Objects live in memory for a short period of time only when we need them.\n",
    "\n",
    "- We create a class that determines what objects look like, what they can do, the properties we can set.\n",
    "\n",
    "- After instantiating, the object comes into memory, and when we finished the manipulation on the variable which just being instantiated, it will be erased from memory.\n",
    "\n"
   ]
  },
  {
   "cell_type": "markdown",
   "metadata": {},
   "source": [
    "# 6. Classes and Objects Example"
   ]
  },
  {
   "cell_type": "markdown",
   "metadata": {},
   "source": [
    "- ## form1.cs\n",
    "\n",
    "- ## new:\n",
    "    \n",
    "    - ### Set up a new area and memory to store sth;"
   ]
  },
  {
   "cell_type": "markdown",
   "metadata": {},
   "source": [
    "# 7. C# Types"
   ]
  },
  {
   "cell_type": "markdown",
   "metadata": {},
   "source": [
    "- ## C# is a strongly-typed language;\n",
    "\n",
    "    - ### Every variable and constant has a specific type;\n",
    "    \n",
    "    - ### Expression that evaluate to a value have a type;\n",
    "\n",
    "- ## Type?\n",
    "\n",
    "    - ### A type specifies up to four main characteristics of the data that can be sorted;\n",
    "        \n",
    "        - By declaring a variable to be integer, we are setting certain characteristics about the data, that can be stored in that variable in C#;\n",
    "    \n",
    "        - ### 1) The storage space that a variable of the type requires;\n",
    "        \n",
    "            -  How much RAM memory is the particular variable going to store based on;\n",
    "        \n",
    "        - ### 2) The maximum and minimum values that it can represent;\n",
    "        \n",
    "        - ### 3) The members (methods, fields, events, and so on) that it contains;\n",
    "        \n",
    "        - ### 4) The base type it inherits from\n",
    "        \n",
    "- __Note__: A particular type is a set of rules and regulations that the data type is going to operate based on.\n",
    "\n",
    "- ## Type Safe?\n",
    "\n",
    "    - ### The compiler makes sure that all operations performed are valid for the type of data being manipulated;\n",
    "    \n",
    "    - ### Examples:\n",
    "    \n",
    "        - Variable that are an integer (int) type can be used in addition and substraction operations; While boolean type cannot;\n",
    "        \n",
    "- ## C# provides a standard set of built-in types (Three Main Type):\n",
    "\n",
    "    - ### Numeric\n",
    "    \n",
    "        - Integer, decimal; \n",
    "    \n",
    "    - ### String\n",
    "    \n",
    "    - ### Object\n",
    "    \n",
    "- ## Type are divided into two categories:\n",
    "\n",
    "    - ### Value Type\n",
    "    \n",
    "    - ### Reference Types\n",
    "    \n",
    "- ## What's the difference?\n",
    "\n",
    "    - ### Compile - time rules\n",
    "    \n",
    "        - How's the compiler sees the types and the restrictions that the compiler realizes and checks for;\n",
    "        \n",
    "    - ### Run-time behaviour (memory usage and management)\n",
    "    \n",
    "        - Whether it involves the stack or the heap or both have the memory is managed as an automatically clean itself;\n",
    "        \n",
    "        - Garbage collection;\n",
    "        \n",
    "        - Claim the memory once were completed using that particular variable;"
   ]
  },
  {
   "cell_type": "markdown",
   "metadata": {},
   "source": [
    "# 8. Values and Reference Types"
   ]
  },
  {
   "cell_type": "markdown",
   "metadata": {},
   "source": [
    "- ## The .Net Framework stores items (variables, and its data)in memory in one of two locations in the memory structure;\n",
    "\n",
    "    - ### Stack -> Value Types\n",
    "    \n",
    "    - ### Heap -> Reference Types\n",
    "    \n",
    "        - Reference Types are partially stored on Heap -> House keeping;"
   ]
  },
  {
   "cell_type": "markdown",
   "metadata": {},
   "source": [
    "## 8.1 Value Type"
   ]
  },
  {
   "cell_type": "markdown",
   "metadata": {},
   "source": [
    "- ## Example"
   ]
  },
  {
   "cell_type": "markdown",
   "metadata": {},
   "source": [
    "### int a = 4\n",
    "\n",
    "### int b = 6\n",
    "\n",
    "### What happens in memory?"
   ]
  },
  {
   "cell_type": "markdown",
   "metadata": {},
   "source": [
    "|int|\n",
    "|:-|\n",
    "|b|\n",
    "|6|\n",
    "\n",
    "|int|\n",
    "|:-|\n",
    "|a|\n",
    "|4|"
   ]
  },
  {
   "cell_type": "markdown",
   "metadata": {},
   "source": [
    "### Each variable is stored on the stacj in the order it was created\n",
    "\n",
    "### int c = b;"
   ]
  },
  {
   "cell_type": "markdown",
   "metadata": {},
   "source": [
    "|int|\n",
    "|:-|\n",
    "|c|\n",
    "|6|\n",
    "\n",
    "|int|\n",
    "|:-|\n",
    "|b|\n",
    "|6|\n",
    "\n",
    "|int|\n",
    "|:-|\n",
    "|a|\n",
    "|4|"
   ]
  },
  {
   "cell_type": "markdown",
   "metadata": {},
   "source": [
    "### Now, change c to 7;\n",
    "\n",
    "- __Note__: Each variable stores its own data;\n",
    "\n",
    "|int|\n",
    "|:-|\n",
    "|c|\n",
    "|7|\n",
    "\n",
    "|int|\n",
    "|:-|\n",
    "|b|\n",
    "|6|\n",
    "\n",
    "|int|\n",
    "|:-|\n",
    "|a|\n",
    "|4|"
   ]
  },
  {
   "cell_type": "markdown",
   "metadata": {},
   "source": [
    "-  ## Set amount\n",
    "\n",
    "    - ### The amount of memory required to store a value type;\n",
    "    \n",
    "    - ### Value type are normally easy to store and maintained;\n",
    "\n",
    "- ## When the variable is no longer needed (out of scope of our program), it is deleted from the stack;"
   ]
  },
  {
   "cell_type": "markdown",
   "metadata": {},
   "source": [
    "## 8.2 Reference Type"
   ]
  },
  {
   "cell_type": "markdown",
   "metadata": {},
   "source": [
    "- ### The variable is stored on the stack;\n",
    "\n",
    "- ### The data is stored on the heap;\n",
    "\n",
    "    - There's a pointer from the variable on the stack to the heap;\n",
    "    \n",
    "    - Reference values or reference data types like objects classes, since we have no idea how many data we will store in those, so the data is stored on the heap and then, we're going to have to use garbage collection or other methods to clear the data out;"
   ]
  },
  {
   "cell_type": "markdown",
   "metadata": {},
   "source": [
    "- ### Example"
   ]
  },
  {
   "cell_type": "markdown",
   "metadata": {},
   "source": [
    "### class Car\n",
    "\n",
    "### {\n",
    "\n",
    "### int hp;\n",
    "\n",
    "### }\n",
    "\n",
    "### Car c = new Car();\n",
    "\n",
    "### c.hp = 340;"
   ]
  },
  {
   "cell_type": "markdown",
   "metadata": {},
   "source": [
    "|Stack|\n",
    "|:-|:-|\n",
    "|class|       \n",
    "|c|\n",
    "|Address: 1|\n",
    "\n",
    "|Heap|\n",
    "|:-|\n",
    "|Address: 1|  \n",
    "|hp: 340|"
   ]
  },
  {
   "cell_type": "markdown",
   "metadata": {},
   "source": [
    "### Now add new object d and f, let f = d;\n",
    "\n",
    "### Car d = new Car();\n",
    "\n",
    "### d.hp = 340;\n",
    "\n",
    "### Car f = d;\n",
    "\n",
    "- ### What happens in memory?"
   ]
  },
  {
   "cell_type": "markdown",
   "metadata": {},
   "source": [
    "__Note__: f is the same address as d;"
   ]
  },
  {
   "cell_type": "markdown",
   "metadata": {},
   "source": [
    "|Stack|\n",
    "|:-|\n",
    "|class|       \n",
    "|f|\n",
    "|Address: 2|\n",
    "\n",
    "|class|\n",
    "|:-|\n",
    "|d|\n",
    "|Address: 2|\n",
    "\n",
    "|class|\n",
    "|:-|\n",
    "|c|\n",
    "|Address: 1|\n",
    "\n",
    "|Heap|\n",
    "|:-|\n",
    "|Address: 2|\n",
    "|hp: 340|\n",
    "\n",
    "|Address: 1|\n",
    "|:-|\n",
    "|hp: 340|"
   ]
  },
  {
   "cell_type": "markdown",
   "metadata": {},
   "source": [
    "### Now, change f to 100\n",
    "\n",
    "### f.hp = 100;"
   ]
  },
  {
   "cell_type": "markdown",
   "metadata": {},
   "source": [
    "|Heap|\n",
    "|:-|\n",
    "|Address: 2|\n",
    "|hp: 100|\n",
    "\n",
    "|Address: 1|\n",
    "|:-|\n",
    "|hp: 340|"
   ]
  },
  {
   "cell_type": "markdown",
   "metadata": {},
   "source": [
    "### d is also changed to 100, since they are in same location;"
   ]
  },
  {
   "cell_type": "markdown",
   "metadata": {},
   "source": [
    "# 9. Using Collections and Arrays"
   ]
  },
  {
   "cell_type": "markdown",
   "metadata": {},
   "source": [
    "- ## Two ways to create and manage groups of related objects in C#;\n",
    "\n",
    "    - ### Creating an Array of obejcts;\n",
    "    \n",
    "        - Arrays store multiple variables of the same type in an array data structure;\n",
    "    \n",
    "    - ### Creating a Collection of objects;\n",
    "    \n",
    "        - Collections provide a flexible way to work with groups of objects;\n",
    "        \n",
    "- ## Difference:\n",
    "\n",
    "    - ### Unlike arrays, the group of objects can grow and shrink dynamically;\n",
    "    \n",
    "    - ### Different kinds of collections;"
   ]
  },
  {
   "cell_type": "markdown",
   "metadata": {},
   "source": [
    "- ### Example: Collections and Arrays"
   ]
  },
  {
   "cell_type": "markdown",
   "metadata": {},
   "source": [
    "### 1) Declare a collection:"
   ]
  },
  {
   "cell_type": "markdown",
   "metadata": {},
   "source": [
    "var dogs = new List<string>(); "
   ]
  },
  {
   "cell_type": "markdown",
   "metadata": {},
   "source": [
    "__var__: declare a variable with unfixed length;"
   ]
  },
  {
   "cell_type": "markdown",
   "metadata": {},
   "source": [
    "### 2) Arrays"
   ]
  },
  {
   "cell_type": "markdown",
   "metadata": {},
   "source": [
    "// Create an array of integers\n",
    "int[] a1 = new int[] { 1, 3, 5, 7, 9 };"
   ]
  },
  {
   "cell_type": "markdown",
   "metadata": {},
   "source": [
    "### Write stirng in console"
   ]
  },
  {
   "cell_type": "code",
   "execution_count": null,
   "metadata": {},
   "outputs": [],
   "source": [
    "Console.WriteLine();"
   ]
  },
  {
   "cell_type": "markdown",
   "metadata": {},
   "source": [
    "# 9. Exception Handling"
   ]
  },
  {
   "cell_type": "markdown",
   "metadata": {},
   "source": [
    "- ### When an exception occurs, it 'bubbles up' through the call stack looking for code that catches and handles the exception;\n",
    "\n",
    "    - When machine starts to run our code, it keeps track of all the calls that have been executed\n",
    "\n",
    "    - and it keeps up with where it is and it creates a kind of a stack type arrangement with all the code that has been running and\n",
    "\n",
    "    - so if down near the bottom of the stack we've had some calls, it will start to bubble that message up through all those calls in the hopes that something will catch that;\n",
    "\n",
    "    - If it gets to the top and the program breaks, the user sees an error message,\n",
    "\n",
    "    - The program no longer works, they have to restart;\n",
    "\n",
    "- ### Dealing with errors, or exceptions, raises some interesting conversations among developers;\n",
    "\n",
    "- ### Exceptions are represented by classes\n",
    "\n",
    "    - These classes are derived from Exception;\n",
    "    \n",
    "    - This class identifies the type of exception and contains properties that have detials about the exception;\n",
    "    \n",
    "    "
   ]
  },
  {
   "cell_type": "markdown",
   "metadata": {},
   "source": [
    "- ### Try ... Catch Block\n",
    "\n",
    "    - Try \n",
    "    \n",
    "        - {all code in the Try block is executed, if any error or exception occurs, jump to catch block}\n",
    "        \n",
    "    - Catch\n",
    "    \n",
    "        - { }\n",
    "        \n",
    "    - Finally (optional)\n",
    "    \n",
    "        - {always executed}"
   ]
  },
  {
   "cell_type": "markdown",
   "metadata": {},
   "source": [
    "- ### Throw\n",
    "\n",
    "    - Exceptions can be raised in code using 'throw';"
   ]
  },
  {
   "cell_type": "markdown",
   "metadata": {},
   "source": [
    "# 10. Execption Example"
   ]
  },
  {
   "cell_type": "markdown",
   "metadata": {},
   "source": [
    "- ### Protected code -> Protect unhandled sessions;\n",
    "\n",
    "    - Console.WriteLine()"
   ]
  },
  {
   "cell_type": "markdown",
   "metadata": {},
   "source": [
    "# 11. String Building"
   ]
  },
  {
   "cell_type": "markdown",
   "metadata": {},
   "source": [
    "- ### In C#, a string is an object of type STRING whose value is text;\n",
    "\n",
    "    - Internally, the text is stored as a sequential read-only collection of __Char Objects__;\n",
    "    \n",
    "- ### The string keyword is an alias for String\n",
    "\n",
    "    - For string keyword, String and string means the same thing;"
   ]
  },
  {
   "cell_type": "markdown",
   "metadata": {},
   "source": [
    "- ### String objects are immutable\n",
    "\n",
    "    - Cannot be changed after they have been changed;\n",
    "    \n",
    "    - All methods and operators that appear to modify a string actually create a new string and delete the old one;\n",
    "    \n",
    "    - Under most conditions their use will not impact performance;\n",
    "    \n",
    "    - While, looping functions that execute hundreds or thousands of times performing string operations can affect performance"
   ]
  },
  {
   "cell_type": "markdown",
   "metadata": {},
   "source": [
    "- ### The StringBuilder class creates  a string buffer (like an arrya) that provides better performance in these situations;\n",
    "\n",
    "    - .Append\n",
    "    \n",
    "    - .AppendLine\n",
    "    \n",
    "    - .Replace"
   ]
  },
  {
   "cell_type": "markdown",
   "metadata": {},
   "source": [
    "# 12. StringWriter and StringReader"
   ]
  },
  {
   "cell_type": "markdown",
   "metadata": {},
   "source": [
    "### These classes provide the ability to manipulate string data inside a StringBuilder object;\n",
    "\n",
    "- StringWriter writes to the StringBuilder object;\n",
    "\n",
    "- StringReader reads string data from the StringBuilder object;\n",
    "\n",
    "- Use them to deal with a lot of string manipulations;"
   ]
  },
  {
   "cell_type": "markdown",
   "metadata": {},
   "source": [
    "-  ### Read what user type in console:\n",
    "\n",
    "    - Console.ReadLine()\n",
    "\n",
    "    "
   ]
  },
  {
   "cell_type": "markdown",
   "metadata": {},
   "source": [
    "- ### Region:\n",
    "\n",
    "    - \\# region \"Customer's Notes\"\n",
    "    \n",
    "    - \\#endregion"
   ]
  },
  {
   "cell_type": "code",
   "execution_count": null,
   "metadata": {},
   "outputs": [],
   "source": []
  }
 ],
 "metadata": {
  "kernelspec": {
   "display_name": "Python 3",
   "language": "python",
   "name": "python3"
  },
  "language_info": {
   "codemirror_mode": {
    "name": "ipython",
    "version": 3
   },
   "file_extension": ".py",
   "mimetype": "text/x-python",
   "name": "python",
   "nbconvert_exporter": "python",
   "pygments_lexer": "ipython3",
   "version": "3.6.3"
  }
 },
 "nbformat": 4,
 "nbformat_minor": 2
}

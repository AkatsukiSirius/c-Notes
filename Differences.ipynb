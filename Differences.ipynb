{
 "cells": [
  {
   "cell_type": "markdown",
   "metadata": {},
   "source": [
    "# 1. Methods vs Functions"
   ]
  },
  {
   "cell_type": "markdown",
   "metadata": {},
   "source": [
    "- ## Method: doesn't return any values when it's completed; When method returns value -> Function\n",
    "\n",
    "    - ### Characteristic:\n",
    "    \n",
    "        - Access Modifier (public, private)\n",
    "        \n",
    "        - Return Type (int,void -> return nothing)\n",
    "        \n",
    "        - Parameter\n",
    "        \n",
    "        - Signature (return type, method ,parameters)\n",
    "\n",
    "- ## Function: does return a value when it's completed;"
   ]
  },
  {
   "cell_type": "code",
   "execution_count": null,
   "metadata": {},
   "outputs": [],
   "source": []
  }
 ],
 "metadata": {
  "kernelspec": {
   "display_name": "Python 3",
   "language": "python",
   "name": "python3"
  },
  "language_info": {
   "codemirror_mode": {
    "name": "ipython",
    "version": 3
   },
   "file_extension": ".py",
   "mimetype": "text/x-python",
   "name": "python",
   "nbconvert_exporter": "python",
   "pygments_lexer": "ipython3",
   "version": "3.6.3"
  }
 },
 "nbformat": 4,
 "nbformat_minor": 2
}

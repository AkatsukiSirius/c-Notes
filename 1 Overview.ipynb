{
 "cells": [
  {
   "cell_type": "markdown",
   "metadata": {},
   "source": [
    "# Overview"
   ]
  },
  {
   "cell_type": "markdown",
   "metadata": {},
   "source": [
    "# 1. C# Types\n",
    "\n",
    "- ## Properties and fields\n",
    "\n",
    "- ## Access modifiers\n",
    "\n",
    "- ## Constructors\n",
    "\n",
    "- ## Structs\n",
    "\n",
    "- ## Generic Types\n",
    "\n",
    "- ## Casting and Converting"
   ]
  },
  {
   "cell_type": "markdown",
   "metadata": {},
   "source": [
    "# 2. Class Hierarchies\n",
    "\n",
    "- ## Inheritance\n",
    "\n",
    "- ## Overloading\n",
    "    \n",
    "    - if in child has a function with same name as the one in parent, it will only use its own function\n",
    "    \n",
    "- ## Extention Methods (heart)\n",
    "\n",
    "- ## Interface\n",
    "\n",
    "- ## IEnumerable\n",
    "\n"
   ]
  },
  {
   "cell_type": "markdown",
   "metadata": {},
   "source": [
    "# 3. Delegates\n",
    "\n",
    "- ## What and why\n",
    "\n",
    "- ## Creating a delegate\n",
    "\n",
    "- ## Multicast delegates"
   ]
  },
  {
   "cell_type": "markdown",
   "metadata": {},
   "source": [
    "# 4. Events (involes Delegates)\n",
    "\n",
    "- ## What and Why?\n",
    "\n",
    "- ## Examples"
   ]
  },
  {
   "cell_type": "markdown",
   "metadata": {},
   "source": [
    "# 5. Garbage Collection\n",
    "\n",
    "- ## Basic\n",
    "\n",
    "- ## Dispose\n",
    "\n",
    "- ## Finalizers\n",
    "\n",
    "- ## IDisposable"
   ]
  },
  {
   "cell_type": "markdown",
   "metadata": {},
   "source": [
    "# 6. Asynchronous Programming\n",
    "\n",
    "- ## Multireading basics\n",
    "\n",
    "- ## Creating a thread\n",
    "\n",
    "- ## Managing threads\n",
    "\n",
    "- ## ThreadPool\n",
    "\n",
    "- ## Async and Await"
   ]
  },
  {
   "cell_type": "markdown",
   "metadata": {},
   "source": [
    "# 7. Security\n",
    "\n",
    "- ## Assemblies\n",
    "\n",
    "- ## GAC\n",
    "\n",
    "- ## User file encryption\n",
    "\n",
    "- ## Hashing"
   ]
  },
  {
   "cell_type": "markdown",
   "metadata": {},
   "source": [
    "# 8. Wrap Up"
   ]
  },
  {
   "cell_type": "markdown",
   "metadata": {},
   "source": [
    "# MCSD Certification Options"
   ]
  },
  {
   "cell_type": "markdown",
   "metadata": {},
   "source": [
    "- ## MSCD: Windows Store App\n",
    "\n",
    "    - ### Exam 70-483 (Programming in c# Specialist)\n",
    "    \n",
    "    - ### Exam 70-484\n",
    "    \n",
    "    - ### Exam 70-485\n",
    "\n",
    "- ## MSCD: Web Applications\n",
    "\n",
    "- ## MSCD: Sharepoint Applications\n",
    "\n",
    "- ## MSCD: Application Lifecycle Management"
   ]
  },
  {
   "cell_type": "markdown",
   "metadata": {},
   "source": [
    "# 9. Some Terminology"
   ]
  },
  {
   "cell_type": "markdown",
   "metadata": {},
   "source": [
    "## 9.1 [namespace](https://docs.microsoft.com/en-us/dotnet/csharp/language-reference/keywords/namespace)"
   ]
  },
  {
   "cell_type": "markdown",
   "metadata": {},
   "source": [
    "- ### Declare a scope that contains a set of related objects.\n",
    "\n",
    "- ### To organize code elements and to create globally unique types."
   ]
  },
  {
   "cell_type": "markdown",
   "metadata": {},
   "source": [
    "## 9.2 [Using](https://docs.microsoft.com/en-us/dotnet/csharp/language-reference/keywords/using)\n",
    "\n",
    "### 1) [Using Directive](https://docs.microsoft.com/en-us/dotnet/csharp/language-reference/keywords/using-directive)\n",
    "\n",
    "- ### To allow the use of types in a namespace so that you do not have to qualify the use of a type in that namespace\n",
    "\n",
    "### 2) [Using static directive](https://docs.microsoft.com/en-us/dotnet/csharp/language-reference/keywords/using-static)\n",
    "\n",
    "- ### To allow you to access static members of a type without having to qualify the access with the type name.\n",
    "\n",
    "### 3) using alias directive\n",
    "\n",
    "- ### using Project = PC.MyCompany.Project;  \n",
    "\n",
    "### 4) [Using Statement](https://docs.microsoft.com/en-us/dotnet/csharp/language-reference/keywords/using-statement)\n",
    "\n",
    "- ### Example, create log file\n",
    "\n",
    "catch(Exception exception)\n",
    "\n",
    "{\n",
    "\n",
    "    using(StreamWriter sw File.CreateText())\n",
    "    \n",
    "    {\n",
    "    \n",
    "        sw.WriteLine(excepion.ToString());\n",
    "        \n",
    "        Dts.TaskResult = (int)ScriptResults.Failure;\n",
    "        \n",
    "    }\n",
    "    \n",
    "}"
   ]
  },
  {
   "cell_type": "markdown",
   "metadata": {},
   "source": [
    "### 5) DLL(Dynamic Link Library)"
   ]
  },
  {
   "cell_type": "code",
   "execution_count": null,
   "metadata": {},
   "outputs": [],
   "source": []
  }
 ],
 "metadata": {
  "kernelspec": {
   "display_name": "Python 3",
   "language": "python",
   "name": "python3"
  },
  "language_info": {
   "codemirror_mode": {
    "name": "ipython",
    "version": 3
   },
   "file_extension": ".py",
   "mimetype": "text/x-python",
   "name": "python",
   "nbconvert_exporter": "python",
   "pygments_lexer": "ipython3",
   "version": "3.6.3"
  }
 },
 "nbformat": 4,
 "nbformat_minor": 2
}
